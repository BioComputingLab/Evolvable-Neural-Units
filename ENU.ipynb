{
 "cells": [
  {
   "cell_type": "code",
   "execution_count": 1,
   "metadata": {},
   "outputs": [],
   "source": [
    "import torch\n",
    "import torch.nn as nn\n",
    "from torch.nn import Linear, Parameter\n",
    "from torch import sigmoid, matmul, tanh, cat, clamp, stack, Tensor, randn, ones\n",
    "\n",
    "# torch.__version__ 1.3.1+cpu"
   ]
  },
  {
   "cell_type": "code",
   "execution_count": 2,
   "metadata": {},
   "outputs": [],
   "source": [
    "class ENU(nn.Module):\n",
    "    def __init__(self, input_channels_size, output_channels_size, memory_state_size=4, \n",
    "                 inner_gate_hidden_units=7, output_gate_hidden_units=4):\n",
    "        super(ENU, self).__init__()\n",
    "        \n",
    "        self.input_size = input_channels_size\n",
    "        self.h_size = memory_state_size\n",
    "        self.output_size = output_channels_size\n",
    "        self.inner_gate_hidden_units = inner_gate_hidden_units\n",
    "        self.output_gate_hidden_units = output_gate_hidden_units\n",
    "        \n",
    "        # reset gate\n",
    "        self.reset_gate1 = Linear(self.input_size + self.h_size + self.output_size, self.inner_gate_hidden_units)\n",
    "        self.reset_gate2 = Linear(self.inner_gate_hidden_units, self.h_size)\n",
    "        \n",
    "        # update gate\n",
    "        self.update_gate1 = Linear(self.input_size + self.h_size + self.output_size, self.inner_gate_hidden_units)\n",
    "        self.update_gate2 = Linear(self.inner_gate_hidden_units, self.h_size)\n",
    "        \n",
    "        # cell gate\n",
    "        self.cell_gate1 = Linear(self.input_size + self.h_size + self.output_size, self.inner_gate_hidden_units)\n",
    "        self.cell_gate2 = Linear(self.inner_gate_hidden_units, self.h_size)\n",
    "\n",
    "        # output gate\n",
    "        self.output_gate1 = Linear(self.h_size, self.output_gate_hidden_units)\n",
    "        self.output_gate2 = Linear(self.output_gate_hidden_units, self.output_size)\n",
    "\n",
    "        # pre memory sate and output\n",
    "        self.h = randn(1, self.h_size)\n",
    "        self.o = randn(1, self.output_size)\n",
    "    \n",
    "    def Reset_Gate(self, data):\n",
    "        return self.reset_gate2(self.reset_gate1(data))\n",
    "\n",
    "    def Update_Gate(self, data):\n",
    "        return self.update_gate2(self.update_gate1(data))\n",
    "\n",
    "    def Cell_Gate(self, data):\n",
    "        return self.cell_gate2(self.cell_gate1(data))\n",
    "\n",
    "    def Output_Gate(self, data):\n",
    "        return self.output_gate2(self.output_gate1(data))\n",
    "    \n",
    "    def forward(self, x): # input each SIze(1, 3)\n",
    "        self.input = cat((self.h, self.o, x), 1) # Size (1, 10)\n",
    "\n",
    "        # Reset Gate\n",
    "        self.r = sigmoid(self.Reset_Gate(self.input)) # Size (1, 4)\n",
    "        # Update Gate\n",
    "        self.z = sigmoid(self.Update_Gate(self.input)) # Size (1, 4)\n",
    "        \n",
    "        # Cell Gate\n",
    "        self.cell_gate_input = cat((self.r * self.h, self.o, x), 1) # Size(1, 10)\n",
    "        self.h_bar = tanh(self.Cell_Gate(self.cell_gate_input)) # Size (1, 4)\n",
    "        \n",
    "        # Memory State\n",
    "        self.h = (1 - self.z) * self.h + self.z * self.h_bar # new memory state \n",
    "        \n",
    "        # Output Gate\n",
    "        self.o = clamp(self.Output_Gate(self.h), 0, 1) # Size (1, 3)\n",
    "\n",
    "        return self.o"
   ]
  },
  {
   "cell_type": "code",
   "execution_count": 3,
   "metadata": {},
   "outputs": [],
   "source": [
    "enu = ENU(3, 3)"
   ]
  }
 ],
 "metadata": {
  "kernelspec": {
   "display_name": "Python 3",
   "language": "python",
   "name": "python3"
  },
  "language_info": {
   "codemirror_mode": {
    "name": "ipython",
    "version": 3
   },
   "file_extension": ".py",
   "mimetype": "text/x-python",
   "name": "python",
   "nbconvert_exporter": "python",
   "pygments_lexer": "ipython3",
   "version": "3.6.9"
  }
 },
 "nbformat": 4,
 "nbformat_minor": 2
}
